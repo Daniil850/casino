{
 "cells": [
  {
   "cell_type": "code",
   "execution_count": 12,
   "id": "987331fc",
   "metadata": {},
   "outputs": [],
   "source": [
    "cells =['0','00',\n",
    "       ['1', 'red'], ['2', 'red'], ['3', 'red'], ['4', 'red'],['5', 'red'], ['6', 'red'],\n",
    "       ['7', 'red'],['8', 'red'], ['9', 'red'],['10', 'red'],['11', 'red'],\n",
    "       ['12', 'red'],['13', 'red'],['14', 'red'],['15', 'red'],['16', 'red'],['17', 'red'],\n",
    "       ['18', 'red'], ['1', 'black'], ['2', 'black'], ['3', 'black'], ['4', 'black'],['5', 'black'],['6', 'black'],\n",
    "       ['7', 'black'],['8', 'black'], ['9', 'black'], ['10', 'black'],['11', 'black'],['12', 'black'],['13', 'black'],\n",
    "       ['14', 'black'],['15', 'black'],['16', 'black'],['17', 'black'],['18', 'black']\n",
    "       ]"
   ]
  },
  {
   "cell_type": "code",
   "execution_count": 13,
   "id": "27b3e22e",
   "metadata": {},
   "outputs": [],
   "source": [
    "import random "
   ]
  },
  {
   "cell_type": "code",
   "execution_count": 14,
   "id": "88364c9e",
   "metadata": {},
   "outputs": [],
   "source": [
    "def randomizer():\n",
    "    result = random.choice(cells)\n",
    "    return result"
   ]
  },
  {
   "cell_type": "code",
   "execution_count": 15,
   "id": "3a1557a8",
   "metadata": {},
   "outputs": [],
   "source": [
    "def print_result(cell):\n",
    "    if cell == '0' or cell == '00':\n",
    "        print (cell)\n",
    "    else:\n",
    "        print('Выпало:', cell [0], cell[1])"
   ]
  },
  {
   "cell_type": "code",
   "execution_count": 16,
   "id": "d54c1526",
   "metadata": {},
   "outputs": [
    {
     "name": "stdout",
     "output_type": "stream",
     "text": [
      "Выпало: 18 black\n"
     ]
    }
   ],
   "source": [
    "print_result(randomizer())"
   ]
  },
  {
   "cell_type": "code",
   "execution_count": 21,
   "id": "0cd62f27",
   "metadata": {},
   "outputs": [],
   "source": [
    "def user_input():\n",
    "    user_input = input('enter your color and number: ')\n",
    "    return user_input"
   ]
  },
  {
   "cell_type": "code",
   "execution_count": 27,
   "id": "0a0fab33",
   "metadata": {},
   "outputs": [],
   "source": [
    "def game():\n",
    "    user_in = user_input()\n",
    "    cell = randomizer()\n",
    "    print_result(cell)\n",
    "    if cell == '0' or cell == '00':\n",
    "        print('defeat')\n",
    "    elif user_in == 'red' and cell[1] == 'red':\n",
    "        print('victory')\n",
    "    elif user_in =='black' and cell[1] == 'black':\n",
    "        print('victory')\n",
    "    else: \n",
    "        print('defeat')\n"
   ]
  },
  {
   "cell_type": "code",
   "execution_count": 47,
   "id": "57a20c28",
   "metadata": {},
   "outputs": [
    {
     "name": "stdout",
     "output_type": "stream",
     "text": [
      "enter your color and number: black\n",
      "Выпало: 14 black\n",
      "victory\n"
     ]
    }
   ],
   "source": [
    "game() "
   ]
  }
 ],
 "metadata": {
  "kernelspec": {
   "display_name": "Python 3",
   "language": "python",
   "name": "python3"
  },
  "language_info": {
   "codemirror_mode": {
    "name": "ipython",
    "version": 3
   },
   "file_extension": ".py",
   "mimetype": "text/x-python",
   "name": "python",
   "nbconvert_exporter": "python",
   "pygments_lexer": "ipython3",
   "version": "3.8.8"
  }
 },
 "nbformat": 4,
 "nbformat_minor": 5
}
